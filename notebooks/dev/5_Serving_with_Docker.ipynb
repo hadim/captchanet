{
 "cells": [
  {
   "cell_type": "markdown",
   "metadata": {},
   "source": [
    "TensorFlow inference from a Docker TF serving server.\n",
    "\n",
    "Launch the server with docker-compose:\n",
    "    \n",
    "```bash\n",
    "docker-compose up\n",
    "```\n",
    "\n",
    "Then execute the code below in order to get the model metadata and to run inference on some images."
   ]
  },
  {
   "cell_type": "code",
   "execution_count": 1,
   "metadata": {},
   "outputs": [],
   "source": [
    "import matplotlib.pyplot as plt\n",
    "import tensorflow as tf\n",
    "import numpy as np\n",
    "import requests\n",
    "import json\n",
    "\n",
    "host = \"localhost\"\n",
    "port = 8501\n",
    "model_name = \"captchanet\"\n",
    "model_version = 4"
   ]
  },
  {
   "cell_type": "code",
   "execution_count": 2,
   "metadata": {},
   "outputs": [
    {
     "data": {
      "text/plain": [
       "{'model_spec': {'name': 'captchanet', 'signature_name': '', 'version': '4'},\n",
       " 'metadata': {'signature_def': {'signature_def': {'serving_default': {'inputs': {'image': {'dtype': 'DT_FLOAT',\n",
       "       'tensor_shape': {'dim': [{'size': '-1', 'name': ''},\n",
       "         {'size': '120', 'name': ''},\n",
       "         {'size': '400', 'name': ''},\n",
       "         {'size': '3', 'name': ''}],\n",
       "        'unknown_rank': False},\n",
       "       'name': 'serving_default_image:0'}},\n",
       "     'outputs': {'reshape': {'dtype': 'DT_FLOAT',\n",
       "       'tensor_shape': {'dim': [{'size': '-1', 'name': ''},\n",
       "         {'size': '10', 'name': ''},\n",
       "         {'size': '62', 'name': ''}],\n",
       "        'unknown_rank': False},\n",
       "       'name': 'StatefulPartitionedCall:0'}},\n",
       "     'method_name': 'tensorflow/serving/predict'},\n",
       "    '__saved_model_init_op': {'inputs': {},\n",
       "     'outputs': {'__saved_model_init_op': {'dtype': 'DT_INVALID',\n",
       "       'tensor_shape': {'dim': [], 'unknown_rank': True},\n",
       "       'name': 'NoOp'}},\n",
       "     'method_name': ''}}}}}"
      ]
     },
     "execution_count": 2,
     "metadata": {},
     "output_type": "execute_result"
    }
   ],
   "source": [
    "# Get metadata about the model\n",
    "request_url = f\"http://{host}:{port}/v1/models/{model_name}/versions/{model_version}/metadata\"\n",
    "req = requests.get(request_url)\n",
    "metadata = json.loads(req.text)\n",
    "metadata"
   ]
  },
  {
   "cell_type": "markdown",
   "metadata": {},
   "source": [
    "# TODO / WIP"
   ]
  },
  {
   "cell_type": "code",
   "execution_count": null,
   "metadata": {},
   "outputs": [],
   "source": [
    "# Download images\n",
    "batch_size = 8\n",
    "captcha_url = \"https://www.referendum.interieur.gouv.fr/bundles/ripconsultation/securimage/securimage_show.php\"\n",
    "images = [np.array(Image.open(io.BytesIO(requests.get(captcha_url).content))) for _ in trange(batch_size)]\n",
    "images = np.array(images)\n",
    "\n",
    "# Preprocess the image\n",
    "batch = tf.cast(images, 'float32')\n",
    "batch = tf.image.per_image_standardization(batch)"
   ]
  },
  {
   "cell_type": "code",
   "execution_count": null,
   "metadata": {},
   "outputs": [],
   "source": [
    "# Run inference\n",
    "labels = model(batch)\n",
    "\n",
    "# Postprocess results (decode labels)\n",
    "labels = tf.argmax(labels, axis=2)\n",
    "labels = [tokenizer.decode(label) for label in labels]\n",
    "labels = [label.replace(' ', '').replace('0', '') for label in labels]\n",
    "\n",
    "fig_size = 2\n",
    "ncols = 2\n",
    "nrows = batch_size // ncols\n",
    "ratio = images.shape[2] / images.shape[1]\n",
    "figsize = (ncols * fig_size * ratio, fig_size * nrows)\n",
    "fig, axs = plt.subplots(nrows=nrows, ncols=ncols, figsize=figsize, constrained_layout=True)\n",
    "axs = axs.flatten()\n",
    "\n",
    "for image, ax, label in zip(images, axs, labels):\n",
    "  ax.imshow(image)\n",
    "  text = f'Predicted: {label} ({len(label)})'\n",
    "  ax.set_title(text, fontsize=18)"
   ]
  },
  {
   "cell_type": "code",
   "execution_count": 21,
   "metadata": {},
   "outputs": [
    {
     "data": {
      "text/plain": [
       "array([7, 6, 1, 1, 7, 9, 8, 5, 9, 7, 8, 9, 2, 8, 5, 6, 9, 0, 0, 8, 1, 1,\n",
       "       2, 7, 7, 7, 9, 1, 4, 3, 2, 2, 5, 3, 8, 1, 7, 4, 2, 2, 4, 0, 9, 0,\n",
       "       8, 7, 0, 8, 6, 4, 5, 6, 4, 4, 5, 9, 2, 3, 5, 1, 7, 4, 5, 7, 6, 2,\n",
       "       6, 3, 2, 6, 2, 9, 4, 6, 9, 3, 2, 2, 9, 2, 2, 4, 5, 6, 6, 9, 1, 0,\n",
       "       0, 2, 8, 5, 3, 5, 5, 1, 1, 3, 3, 3, 8, 9, 0, 9, 2, 8, 9, 7, 5, 2,\n",
       "       4, 2, 0, 9, 1, 8, 1, 2, 1, 1, 3, 5, 7, 1, 6, 3, 8, 0, 0, 1, 7, 2,\n",
       "       9, 3, 4, 4, 8, 7, 8, 6, 0, 9, 3, 8, 6, 9, 1, 0, 1, 1, 9, 2, 6, 3,\n",
       "       9, 4, 7, 5, 5, 6, 8, 9, 2, 8, 8, 9, 9, 0, 5, 1, 1, 2, 9, 3, 5, 4,\n",
       "       1, 3, 0, 6, 6, 9, 6, 2, 9, 9, 6, 0, 3, 8, 3, 3, 1, 9, 1, 5, 7, 5,\n",
       "       1, 2, 9, 6, 3, 9, 3, 4, 7, 9, 7, 1, 2, 9, 2, 1, 0, 2, 9, 3, 2, 5,\n",
       "       9, 9, 5, 6, 0, 9, 3, 1, 8, 1, 8, 1, 3, 2, 2, 9, 1, 3, 3, 6, 6, 9,\n",
       "       9, 1, 8, 9, 5, 0, 1, 9, 9, 9, 0, 9, 4, 8])"
      ]
     },
     "execution_count": 21,
     "metadata": {},
     "output_type": "execute_result"
    }
   ],
   "source": [
    "# Run inference\n",
    "(train_images, _), _ = tf.keras.datasets.mnist.load_data()\n",
    "train_images = train_images.reshape((-1, 28, 28, 1))\n",
    "\n",
    "i = 57074\n",
    "n = 256\n",
    "images = train_images[i:i+n]\n",
    "\n",
    "dummy = np.random.randint(0, 10, size=(256, 10)).astype('int64')\n",
    "\n",
    "# Prepare inputs\n",
    "inputs_data = {\"inputs\": {'images': images.tolist(), 'dummy_inputs': dummy.tolist()}}\n",
    "\n",
    "request_url = f\"http://{host}:{port}/v1/models/{model_name}/versions/{model_version}:predict\"\n",
    "req = requests.post(request_url, json=inputs_data)\n",
    "assert req.status_code == 200\n",
    "\n",
    "outputs = json.loads(req.text)['outputs']\n",
    "predicted_labels = np.argmax(outputs, axis=1)\n",
    "predicted_labels"
   ]
  },
  {
   "cell_type": "code",
   "execution_count": 23,
   "metadata": {},
   "outputs": [
    {
     "data": {
      "image/png": "[encoded data removed]",
      "text/plain": [
       "<Figure size 720x216 with 10 Axes>"
      ]
     },
     "metadata": {
      "needs_background": "light"
     },
     "output_type": "display_data"
    }
   ],
   "source": [
    "fig, axs = plt.subplots(nrows=2, ncols=5, figsize=(10, 3), constrained_layout=True)\n",
    "\n",
    "axs = axs.flatten()\n",
    "indices = np.random.randint(0, n, size=len(axs))\n",
    "\n",
    "for i, ax in zip(indices, axs):\n",
    "    ax.imshow(images[i, :, :, 0], aspect='equal')\n",
    "    ax.get_xaxis().set_visible(False)\n",
    "    ax.get_yaxis().set_visible(False)\n",
    "    \n",
    "    label = predicted_labels[i]\n",
    "    ax.text(0.82, 0.78, f\"{label}\", transform=ax.transAxes, color='white', fontsize=24)\n"
   ]
  }
 ],
 "metadata": {
  "kernelspec": {
   "display_name": "Python [conda env:captchanet]",
   "language": "python",
   "name": "conda-env-captchanet-py"
  },
  "language_info": {
   "codemirror_mode": {
    "name": "ipython",
    "version": 3
   },
   "file_extension": ".py",
   "mimetype": "text/x-python",
   "name": "python",
   "nbconvert_exporter": "python",
   "pygments_lexer": "ipython3",
   "version": "3.7.1"
  }
 },
 "nbformat": 4,
 "nbformat_minor": 4
}
