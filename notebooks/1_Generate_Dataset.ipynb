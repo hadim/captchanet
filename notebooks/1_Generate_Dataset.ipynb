{
 "cells": [
  {
   "cell_type": "markdown",
   "metadata": {},
   "source": [
    "Generate random captcha images used later for training and validation."
   ]
  },
  {
   "cell_type": "code",
   "execution_count": 1,
   "metadata": {},
   "outputs": [],
   "source": [
    "%load_ext autoreload\n",
    "%autoreload 2\n",
    "%matplotlib inline\n",
    "\n",
    "from pathlib import Path\n",
    "import sys\n",
    "sys.path.append(\"../\")\n",
    "\n",
    "import matplotlib.pyplot as plt\n",
    "import numpy as np\n",
    "\n",
    "import tensorflow as tf\n",
    "import tensorflow_datasets as tfds\n",
    "\n",
    "from tqdm.auto import trange\n",
    "import captchanet\n",
    "\n",
    "data_dir = Path('/home/hadim/.data/Neural_Network/captchanet')\n",
    "\n",
    "dataset_dir = data_dir / 'dataset'\n",
    "dataset_dir.mkdir(exist_ok=True, parents=True)\n",
    "\n",
    "train_data_path = dataset_dir / 'training.tfrecord'\n",
    "val_data_path = dataset_dir / 'validation.tfrecord'\n",
    "\n",
    "alphabet_path = dataset_dir / \"alphabet.txt\"\n",
    "tokenizer_path = dataset_dir / \"tokenizer\"\n",
    "\n",
    "font_path = data_dir / 'fonts' / 'NimbusSanL-Bol.otf'"
   ]
  },
  {
   "cell_type": "code",
   "execution_count": null,
   "metadata": {},
   "outputs": [],
   "source": [
    "n_images = 100000\n",
    "image_size = (400, 120)\n",
    "watermark = \"République Française - référendum d'initiative partagée\"\n",
    "\n",
    "word_length_min = 5\n",
    "word_length_max = 10\n",
    "\n",
    "generator = captchanet.CaptchaGenerator(image_size=image_size, font_size=73, font_path=font_path)\n",
    "generator.font_path = str(font_path)\n",
    "\n",
    "# Create a tokenizer and save it.\n",
    "vocabulary = set(generator.alphabet)\n",
    "# This is the padding value.\n",
    "vocabulary.add(captchanet.PADDING_VALUE)\n",
    "tokenizer = tfds.features.text.TokenTextEncoder(vocabulary)\n",
    "tokenizer.save_to_file(str(tokenizer_path))\n",
    "\n",
    "# Split dataset for training and validation.\n",
    "train_size = 0.8\n",
    "train_n = int(n_images * train_size)\n",
    "\n",
    "train_writer = tf.io.TFRecordWriter(str(train_data_path))\n",
    "val_writer = tf.io.TFRecordWriter(str(val_data_path))\n",
    "\n",
    "for i in trange(n_images):\n",
    "  # Generate a random word and an image.\n",
    "  word, image = generator(n_min=word_length_min, n_max=word_length_max, watermark=watermark)\n",
    "  image = image.convert('RGB')\n",
    "  \n",
    "  # Pad label with a padding value.\n",
    "  word_padded = word.ljust(word_length_max, captchanet.PADDING_VALUE)\n",
    "  \n",
    "  # Create TF feature\n",
    "  example = captchanet.encode_data(image, word_padded, tokenizer)\n",
    "  \n",
    "  if i < train_n:\n",
    "    writer = train_writer\n",
    "  else:\n",
    "    writer = val_writer\n",
    "    \n",
    "  # Save data to TFRecord.\n",
    "  writer.write(example.SerializeToString())\n",
    "  \n",
    "train_writer.close()\n",
    "val_writer.close()\n",
    "  \n",
    "# Save the alphabet.\n",
    "with open(alphabet_path, 'w') as f:\n",
    "  f.write(''.join(generator.alphabet))"
   ]
  },
  {
   "cell_type": "code",
   "execution_count": null,
   "metadata": {},
   "outputs": [],
   "source": [
    "# Check the dataset by displaying some images.\n",
    "\n",
    "n  = 8\n",
    "dataset = tf.data.TFRecordDataset(str(train_data_path))\n",
    "dataset = dataset.map(map_func=captchanet.decode_data(tokenizer, max_len_word=10, input_as_dict=True))\n",
    "dataset = dataset.shuffle(1024)\n",
    "dataset = dataset.batch(n)\n",
    "data = [d for d in dataset.take(1)][0]\n",
    "\n",
    "images = data['image']\n",
    "labels = data['label']\n",
    "\n",
    "# Plot\n",
    "original_images = data['original_image'].numpy()\n",
    "words = data['word'].numpy()\n",
    "words = [w.decode('utf-8').replace('0', '') for w in words]\n",
    "\n",
    "size = 3\n",
    "ncols = 2\n",
    "nrows = n // ncols\n",
    "ratio = images.shape[2] / images.shape[1]\n",
    "figsize = (ncols * size * ratio, size * nrows)\n",
    "fig, axs = plt.subplots(nrows=nrows, ncols=ncols, figsize=figsize, constrained_layout=True)\n",
    "axs = axs.flatten()\n",
    "\n",
    "for image, word, ax in zip(original_images, words, axs):\n",
    "  ax.imshow(image)\n",
    "  \n",
    "  text = f'True: {word} ({len(word)})'\n",
    "  ax.set_title(text)"
   ]
  },
  {
   "cell_type": "code",
   "execution_count": 4,
   "metadata": {},
   "outputs": [],
   "source": [
    "n_images = 100000\n",
    "image_size = (400, 120)\n",
    "watermark = \"République Française - référendum d'initiative partagée\"\n",
    "\n",
    "word_length_min = 5\n",
    "word_length_max = 10\n",
    "\n",
    "generator = captchanet.CaptchaGenerator(image_size=image_size, font_size=73, font_name='NimbusSanL-Bol.otf')\n",
    "generator.font_path = str(font_path)"
   ]
  },
  {
   "cell_type": "code",
   "execution_count": null,
   "metadata": {},
   "outputs": [],
   "source": [
    "word = 'Mh3vUvg'\n",
    "image = generator.generate_image_from_word(word, watermark=watermark)\n",
    "image"
   ]
  },
  {
   "cell_type": "code",
   "execution_count": 128,
   "metadata": {},
   "outputs": [
    {
     "data": {
      "image/png": "[encoded data removed]",
      "text/plain": [
       "<PIL.Image.Image image mode=RGBA size=400x120 at 0x7F265AC07358>"
      ]
     },
     "execution_count": 128,
     "metadata": {},
     "output_type": "execute_result"
    }
   ],
   "source": [
    "w = 400\n",
    "h = 120\n",
    "\n",
    "dx = w * np.random.uniform(0, 1)\n",
    "dy = h * np.random.uniform(0, 1)\n",
    "x1 = int(np.random.uniform(-dx, dx))\n",
    "y1 = int(np.random.uniform(-dy, dy))\n",
    "x2 = int(np.random.uniform(-dx, dx))\n",
    "y2 = int(np.random.uniform(-dy, dy))\n",
    "w2 = w + abs(x1) + abs(x2)\n",
    "h2 = h + abs(y1) + abs(y2)\n",
    "data = (x1, y1, -x1, h2 - y2, w2 + x2, h2 + y2, w2 - x2, -y1)\n",
    "image = image.resize((w2, h2))\n",
    "image = image.transform((w, h), Image.QUAD, data)\n",
    "image"
   ]
  },
  {
   "cell_type": "code",
   "execution_count": null,
   "metadata": {},
   "outputs": [],
   "source": [
    "from skimage.transform import swirl\n",
    "from PIL import Image\n",
    "\n",
    "swirled = swirl(np.array(image)[:, :, 0], center=(10, 50), strength=5, radius=120)\n",
    "swirled = swirled * 255\n",
    "swirled = swirled.astype('uint8')\n",
    "Image.fromarray(swirled)"
   ]
  },
  {
   "cell_type": "code",
   "execution_count": 124,
   "metadata": {},
   "outputs": [
    {
     "data": {
      "image/png": "[encoded data removed]",
      "text/plain": [
       "<PIL.Image.Image image mode=L size=400x120 at 0x7F265ACD6A20>"
      ]
     },
     "execution_count": 124,
     "metadata": {},
     "output_type": "execute_result"
    }
   ],
   "source": [
    "image_width = 400\n",
    "image_height = 120\n",
    "\n",
    "swirl_center_x = np.random.normal(image_width / 2, image_width / 5)\n",
    "swirl_center_x = max(swirl_center_x, 0)\n",
    "swirl_center_x = min(swirl_center_x, image_width)\n",
    "swirl_center_x = int(swirl_center_x)\n",
    "\n",
    "swirl_center_y = np.random.normal(image_height / 2, image_height / 5)\n",
    "swirl_center_y = max(swirl_center_y, 0)\n",
    "swirl_center_y = min(swirl_center_y, image_height)\n",
    "swirl_center_y = int(swirl_center_y)\n",
    "\n",
    "center = (swirl_center_x, swirl_center_y)\n",
    "center = (image_width / 2, image_height / 2)\n",
    "\n",
    "swirled = swirl(np.array(image)[:, :, 0], center=center, strength=5, radius=200)\n",
    "swirled = swirled * 255\n",
    "swirled = swirled.astype('uint8')\n",
    "Image.fromarray(swirled)"
   ]
  },
  {
   "cell_type": "code",
   "execution_count": 71,
   "metadata": {},
   "outputs": [
    {
     "data": {
      "text/plain": [
       "(381, 120)"
      ]
     },
     "execution_count": 71,
     "metadata": {},
     "output_type": "execute_result"
    }
   ],
   "source": [
    "center"
   ]
  },
  {
   "cell_type": "code",
   "execution_count": null,
   "metadata": {},
   "outputs": [],
   "source": []
  }
 ],
 "metadata": {
  "kernelspec": {
   "display_name": "Python 3 - [captchanet-sde]",
   "language": "python",
   "name": "captchanet-sde"
  },
  "language_info": {
   "codemirror_mode": {
    "name": "ipython",
    "version": 3
   },
   "file_extension": ".py",
   "mimetype": "text/x-python",
   "name": "python",
   "nbconvert_exporter": "python",
   "pygments_lexer": "ipython3",
   "version": "3.7.1"
  }
 },
 "nbformat": 4,
 "nbformat_minor": 4
}
