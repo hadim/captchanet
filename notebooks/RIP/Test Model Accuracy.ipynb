{
 "cells": [
  {
   "cell_type": "code",
   "execution_count": 18,
   "metadata": {},
   "outputs": [],
   "source": [
    "%matplotlib inline\n",
    "\n",
    "from pathlib import Path\n",
    "import io\n",
    "import urllib.parse as urlparse\n",
    "import string\n",
    "import random\n",
    "\n",
    "import matplotlib.pyplot as plt\n",
    "import numpy as np\n",
    "\n",
    "import tensorflow as tf\n",
    "import tensorflow_datasets as tfds\n",
    "\n",
    "from tqdm.auto import trange\n",
    "from tqdm.auto import tqdm\n",
    "import requests\n",
    "from scrapy.http import TextResponse\n",
    "from PIL import Image\n",
    "\n",
    "model_dir = Path(\"/home/hadim/Drive/Data/Neural_Network/captchanet/model/\")\n",
    "\n",
    "model_name = 'v4'\n",
    "model_path = model_dir / model_name / 'model.h5'\n",
    "tokenizer_path = model_dir / model_name / 'tokenizer'"
   ]
  },
  {
   "cell_type": "markdown",
   "metadata": {},
   "source": [
    "---\n",
    "Download random images and run the model on it. Here we don't have access to the true captcha label."
   ]
  },
  {
   "cell_type": "code",
   "execution_count": null,
   "metadata": {},
   "outputs": [],
   "source": [
    "# Test predictions on randomly downloaded captcha images.\n",
    "\n",
    "# Load tokenizer and model\n",
    "tokenizer = tfds.features.text.TokenTextEncoder.load_from_file(str(tokenizer_path))\n",
    "model = tf.keras.models.load_model(str(model_path))\n",
    "\n",
    "# Download images\n",
    "batch_size = 8\n",
    "captcha_url = \"https://www.referendum.interieur.gouv.fr/bundles/ripconsultation/securimage/securimage_show.php\"\n",
    "images = [np.array(Image.open(io.BytesIO(requests.get(captcha_url).content))) for _ in trange(batch_size)]\n",
    "images = np.array(images)\n",
    "\n",
    "# Preprocess the image\n",
    "batch = tf.cast(images, 'float32')\n",
    "batch = tf.image.per_image_standardization(batch)\n",
    "\n",
    "# Run inference\n",
    "labels = model(batch)\n",
    "\n",
    "# Postprocess results (decode labels)\n",
    "labels = tf.argmax(labels, axis=2)\n",
    "labels = [tokenizer.decode(label) for label in labels]\n",
    "labels = [label.replace(' ', '').replace('0', '') for label in labels]\n",
    "\n",
    "fig_size = 2\n",
    "ncols = 2\n",
    "nrows = batch_size // ncols\n",
    "ratio = images.shape[2] / images.shape[1]\n",
    "figsize = (ncols * fig_size * ratio, fig_size * nrows)\n",
    "fig, axs = plt.subplots(nrows=nrows, ncols=ncols, figsize=figsize, constrained_layout=True)\n",
    "axs = axs.flatten()\n",
    "\n",
    "for image, ax, label in zip(images, axs, labels):\n",
    "  ax.imshow(image)\n",
    "  text = f'Predicted: {label} ({len(label)})'\n",
    "  ax.set_title(text, fontsize=18)"
   ]
  },
  {
   "cell_type": "markdown",
   "metadata": {},
   "source": [
    "---\n",
    "\n",
    "Here we try to solve the captcha by postinf the captcha answer to the website."
   ]
  },
  {
   "cell_type": "code",
   "execution_count": 2,
   "metadata": {},
   "outputs": [
    {
     "name": "stderr",
     "output_type": "stream",
     "text": [
      "WARNING: Logging before flag parsing goes to stderr.\n",
      "W0710 19:02:18.832286 140649371776832 nn_ops.py:4220] Large dropout rate: 0.7 (>0.5). In TensorFlow 2.x, dropout() uses dropout rate instead of keep_prob. Please ensure that this is intended.\n",
      "W0710 19:02:19.095258 140649371776832 deprecation.py:323] From /home/hadim/local/conda/envs/captchanet/lib/python3.7/site-packages/tensorflow/python/ops/math_grad.py:1250: add_dispatch_support.<locals>.wrapper (from tensorflow.python.ops.array_ops) is deprecated and will be removed in a future version.\n",
      "Instructions for updating:\n",
      "Use tf.where in 2.0, which has the same broadcast rule as np.where\n"
     ]
    }
   ],
   "source": [
    "# Load tokenizer and model\n",
    "tokenizer = tfds.features.text.TokenTextEncoder.load_from_file(str(tokenizer_path))\n",
    "model = tf.keras.models.load_model(str(model_path))\n",
    "\n",
    "def captcha_solver(image):\n",
    "    \n",
    "  image = np.array(image)\n",
    "  images = np.array([image])\n",
    "  \n",
    "  # Preprocess the image\n",
    "  batch = tf.cast(images, 'float32')\n",
    "  batch = tf.image.per_image_standardization(batch)\n",
    "\n",
    "  # Run inference\n",
    "  labels = model(batch)\n",
    "\n",
    "  # Postprocess results (decode labels)\n",
    "  labels = tf.argmax(labels, axis=2)\n",
    "  labels = [tokenizer.decode(label) for label in labels]\n",
    "  labels = [label.replace(' ', '').replace('0', '') for label in labels]\n",
    "  \n",
    "  return labels[0]"
   ]
  },
  {
   "cell_type": "code",
   "execution_count": null,
   "metadata": {},
   "outputs": [
    {
     "data": {
      "application/vnd.jupyter.widget-view+json": {
       "model_id": "67574c6a2e1544a49eda3b012a2a9263",
       "version_major": 2,
       "version_minor": 0
      },
      "text/plain": [
       "HBox(children=(IntProgress(value=0, max=10), HTML(value='')))"
      ]
     },
     "metadata": {},
     "output_type": "display_data"
    },
    {
     "name": "stdout",
     "output_type": "stream",
     "text": [
      "0.0 (0/10)\n",
      "0.0 (0/10)\n",
      "0.0 (0/10)\n",
      "0.0 (0/10)\n"
     ]
    }
   ],
   "source": [
    "root_url = \"https://www.referendum.interieur.gouv.fr/consultation_publique/8/\"\n",
    "\n",
    "n = 10\n",
    "success = 0\n",
    "rate = 0\n",
    "\n",
    "for i in trange(n):\n",
    "\n",
    "  letter1 = random.choice(string.ascii_uppercase)\n",
    "  letter2 = random.choice(string.ascii_uppercase)\n",
    "  letter3 = random.choice(string.ascii_uppercase)\n",
    "  url = urlparse.urljoin(root_url, f'{letter1}/{letter2}{letter3}')\n",
    "\n",
    "  cookies = {}\n",
    "  cookies['incap_ses_1226_2043128'] = 'mgkMA9/hwWCLbdgBuaADEStnJl0AAAAA+VteaHrdbEO+DT3swlExCA=='\n",
    "  session = requests.Session()\n",
    "  requests.utils.add_dict_to_cookiejar(session.cookies, cookies)\n",
    "\n",
    "  req = session.get(url)\n",
    "  response = TextResponse(str(req.url), body=req.text, encoding='utf-8')\n",
    "  \n",
    "  iframe_src = response.css('iframe').xpath('@src').get()\n",
    "  if iframe_src and 'Incapsula' in iframe_src:\n",
    "    raise Exception(\"Incapsula issue.\")\n",
    "\n",
    "  captcha = response.css('img#captcha').xpath('@src').get()\n",
    "\n",
    "  if not captcha:\n",
    "    raise Exception(\"Captcha not here.\")\n",
    "\n",
    "  # Get the token\n",
    "  token = response.css('#form__token').xpath('@value').get()\n",
    "\n",
    "  # Get the image captcha URL\n",
    "  captcha_uri = response.css('img#captcha').xpath('@src').get()\n",
    "  captcha_url = urlparse.urljoin(root_url, captcha_uri)\n",
    "\n",
    "  # Download the image\n",
    "  req = session.get(captcha_url)\n",
    "  captcha_image = Image.open(io.BytesIO(req.content))\n",
    "\n",
    "  # Solve the captcha\n",
    "  captcha_solution = captcha_solver(captcha_image)\n",
    "\n",
    "  # Send captcha solution.\n",
    "  form_data = {}\n",
    "  form_data['form[captcha]'] = captcha_solution\n",
    "  form_data['form[_token]'] = token\n",
    "\n",
    "  # Get the actual page.\n",
    "  req = session.post(url, data=form_data)\n",
    "  response = TextResponse(str(req.url), body=req.text, encoding='utf-8')\n",
    "\n",
    "  captcha = response.css('img#captcha').xpath('@src').get()\n",
    "\n",
    "  if not captcha:\n",
    "    success += 1\n",
    "    \n",
    "  rate = (success / n) * 100\n",
    "  tqdm.write(f\"{rate:.1f} ({success}/{n})\")"
   ]
  },
  {
   "cell_type": "code",
   "execution_count": null,
   "metadata": {},
   "outputs": [],
   "source": []
  }
 ],
 "metadata": {
  "kernelspec": {
   "display_name": "Python [conda env:captchanet]",
   "language": "python",
   "name": "conda-env-captchanet-py"
  },
  "language_info": {
   "codemirror_mode": {
    "name": "ipython",
    "version": 3
   },
   "file_extension": ".py",
   "mimetype": "text/x-python",
   "name": "python",
   "nbconvert_exporter": "python",
   "pygments_lexer": "ipython3",
   "version": "3.7.1"
  }
 },
 "nbformat": 4,
 "nbformat_minor": 4
}
