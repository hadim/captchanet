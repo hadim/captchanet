{
 "cells": [
  {
   "cell_type": "code",
   "execution_count": 1,
   "metadata": {},
   "outputs": [],
   "source": [
    "#import os\n",
    "#os.environ[\"CUDA_VISIBLE_DEVICES\"] = \"-1\" \n",
    "\n",
    "%matplotlib inline\n",
    "\n",
    "from pathlib import Path\n",
    "import io\n",
    "import urllib.parse as urlparse\n",
    "import string\n",
    "import random\n",
    "\n",
    "import matplotlib.pyplot as plt\n",
    "import numpy as np\n",
    "\n",
    "import tensorflow as tf\n",
    "import tensorflow_datasets as tfds\n",
    "\n",
    "from tqdm.auto import trange\n",
    "from tqdm.auto import tqdm\n",
    "import requests\n",
    "from scrapy.http import TextResponse\n",
    "from PIL import Image"
   ]
  },
  {
   "cell_type": "code",
   "execution_count": 2,
   "metadata": {},
   "outputs": [],
   "source": [
    "# Load tokenizer and model\n",
    "\n",
    "model_dir = Path(\"/home/hadim/.data/Neural_Network/captchanet/model/\")\n",
    "model_name = 'v6'\n",
    "model_path = model_dir / model_name\n",
    "\n",
    "with open(model_path / 'tokenizer.json') as f:\n",
    "  #tokenizer = tf.keras.preprocessing.text.tokenizer_from_json(f.read())\n",
    "  from keras_preprocessing import text\n",
    "  tokenizer = text.tokenizer_from_json(f.read())\n",
    "model = tf.keras.models.load_model(str(model_path / 'model'))\n",
    "\n",
    "def captcha_solver(image):\n",
    "    \n",
    "  image = np.array(image)\n",
    "  images = np.array([image])\n",
    "  \n",
    "  # The images need to be normalized t [0, 1] and resize to (224, 224).\n",
    "  image_size = (224, 224)\n",
    "  batch = tf.cast(images, 'float32')\n",
    "  batch = tf.image.per_image_standardization(batch)\n",
    "  batch = tf.image.resize(batch, image_size)\n",
    "\n",
    "  # Run inference\n",
    "  labels = model(batch)\n",
    "\n",
    "  # Postprocess results (decode labels)\n",
    "  labels = tf.argmax(labels, axis=2)\n",
    "  words = tokenizer.sequences_to_texts(labels.numpy())\n",
    "  words = [word.replace(' ', '') for word in words]\n",
    "  \n",
    "  return words[0]"
   ]
  },
  {
   "cell_type": "code",
   "execution_count": 4,
   "metadata": {},
   "outputs": [
    {
     "data": {
      "text/plain": [
       "<RequestsCookieJar[Cookie(version=0, name='incap_ses_1226_2043128', value='2DYdJdlEmWYbL6kFuaADEQxZKl0AAAAAGiRH5APVrFbNVOA3UvKyEQ==', port=None, port_specified=False, domain='', domain_specified=False, domain_initial_dot=False, path='/', path_specified=True, secure=False, expires=None, discard=True, comment=None, comment_url=None, rest={'HttpOnly': None}, rfc2109=False), Cookie(version=0, name='incap_ses_700_2043128', value='r8I9BiI0UgcueedSzvK2CQ2vKl0AAAAA/zINIs3Ax+IerksdhuV9iw==', port=None, port_specified=False, domain='', domain_specified=False, domain_initial_dot=False, path='/', path_specified=True, secure=False, expires=None, discard=True, comment=None, comment_url=None, rest={'HttpOnly': None}, rfc2109=False), Cookie(version=0, name='visid_incap_2043128', value='GYNWxPrARFu3+cpVL3q7fSYPFl0AAAAAV0IPAAAAAACA6oKNAWAV/04pmxc8680SsNuIlIn7EPfW', port=None, port_specified=False, domain='', domain_specified=False, domain_initial_dot=False, path='/', path_specified=True, secure=False, expires=None, discard=True, comment=None, comment_url=None, rest={'HttpOnly': None}, rfc2109=False), Cookie(version=0, name='incap_ses_1213_2043128', value='jNzdI6ISkB1xCuS30XHVENOwKl0AAAAAiENVsbQJEvqiSBSnMwKySg==', port=None, port_specified=False, domain='.referendum.interieur.gouv.fr', domain_specified=True, domain_initial_dot=True, path='/', path_specified=True, secure=False, expires=None, discard=True, comment=None, comment_url=None, rest={}, rfc2109=False)]>"
      ]
     },
     "execution_count": 4,
     "metadata": {},
     "output_type": "execute_result"
    }
   ],
   "source": [
    "session.cookies"
   ]
  },
  {
   "cell_type": "code",
   "execution_count": 5,
   "metadata": {},
   "outputs": [
    {
     "data": {
      "application/vnd.jupyter.widget-view+json": {
       "model_id": "47637b96788345b69db9af424d79188c",
       "version_major": 2,
       "version_minor": 0
      },
      "text/plain": [
       "HBox(children=(IntProgress(value=1, bar_style='info', max=1), HTML(value='')))"
      ]
     },
     "metadata": {},
     "output_type": "display_data"
    },
    {
     "ename": "Exception",
     "evalue": "Incapsula issue.",
     "output_type": "error",
     "traceback": [
      "\u001b[0;31m---------------------------------------------------------------------------\u001b[0m",
      "\u001b[0;31mException\u001b[0m                                 Traceback (most recent call last)",
      "\u001b[0;32m<ipython-input-5-4b0930ae0a76>\u001b[0m in \u001b[0;36m<module>\u001b[0;34m\u001b[0m\n\u001b[1;32m     31\u001b[0m     \u001b[0miframe_src\u001b[0m \u001b[0;34m=\u001b[0m \u001b[0mresponse\u001b[0m\u001b[0;34m.\u001b[0m\u001b[0mcss\u001b[0m\u001b[0;34m(\u001b[0m\u001b[0;34m'iframe'\u001b[0m\u001b[0;34m)\u001b[0m\u001b[0;34m.\u001b[0m\u001b[0mxpath\u001b[0m\u001b[0;34m(\u001b[0m\u001b[0;34m'@src'\u001b[0m\u001b[0;34m)\u001b[0m\u001b[0;34m.\u001b[0m\u001b[0mget\u001b[0m\u001b[0;34m(\u001b[0m\u001b[0;34m)\u001b[0m\u001b[0;34m\u001b[0m\u001b[0;34m\u001b[0m\u001b[0m\n\u001b[1;32m     32\u001b[0m     \u001b[0;32mif\u001b[0m \u001b[0miframe_src\u001b[0m \u001b[0;32mand\u001b[0m \u001b[0;34m'Incapsula'\u001b[0m \u001b[0;32min\u001b[0m \u001b[0miframe_src\u001b[0m\u001b[0;34m:\u001b[0m\u001b[0;34m\u001b[0m\u001b[0;34m\u001b[0m\u001b[0m\n\u001b[0;32m---> 33\u001b[0;31m       \u001b[0;32mraise\u001b[0m \u001b[0mException\u001b[0m\u001b[0;34m(\u001b[0m\u001b[0;34m\"Incapsula issue.\"\u001b[0m\u001b[0;34m)\u001b[0m\u001b[0;34m\u001b[0m\u001b[0;34m\u001b[0m\u001b[0m\n\u001b[0m\u001b[1;32m     34\u001b[0m \u001b[0;34m\u001b[0m\u001b[0m\n\u001b[1;32m     35\u001b[0m     \u001b[0mcaptcha\u001b[0m \u001b[0;34m=\u001b[0m \u001b[0mresponse\u001b[0m\u001b[0;34m.\u001b[0m\u001b[0mcss\u001b[0m\u001b[0;34m(\u001b[0m\u001b[0;34m'img#captcha'\u001b[0m\u001b[0;34m)\u001b[0m\u001b[0;34m.\u001b[0m\u001b[0mxpath\u001b[0m\u001b[0;34m(\u001b[0m\u001b[0;34m'@src'\u001b[0m\u001b[0;34m)\u001b[0m\u001b[0;34m.\u001b[0m\u001b[0mget\u001b[0m\u001b[0;34m(\u001b[0m\u001b[0;34m)\u001b[0m\u001b[0;34m\u001b[0m\u001b[0;34m\u001b[0m\u001b[0m\n",
      "\u001b[0;31mException\u001b[0m: Incapsula issue."
     ]
    }
   ],
   "source": [
    "root_url = \"https://www.referendum.interieur.gouv.fr/consultation_publique/8/\"\n",
    "\n",
    "cookies_pot = [{'incap_ses_700_2043128': 'r8I9BiI0UgcueedSzvK2CQ2vKl0AAAAA/zINIs3Ax+IerksdhuV9iw=='}]\n",
    "\n",
    "cookies = {}\n",
    "cookies['visid_incap_2043128'] = 'GYNWxPrARFu3+cpVL3q7fSYPFl0AAAAAV0IPAAAAAACA6oKNAWAV/04pmxc8680SsNuIlIn7EPfW'\n",
    "cookies['incap_ses_700_2043128'] = 'r8I9BiI0UgcueedSzvK2CQ2vKl0AAAAA/zINIs3Ax+IerksdhuV9iw=='\n",
    "cookies['incap_ses_1226_2043128'] = '2DYdJdlEmWYbL6kFuaADEQxZKl0AAAAAGiRH5APVrFbNVOA3UvKyEQ=='\n",
    "\n",
    "success = 0\n",
    "rate = 0\n",
    "word_length_max = 10\n",
    "  \n",
    "i = 0\n",
    "pbar = tqdm()\n",
    "while True:\n",
    "  try:\n",
    "  \n",
    "    letter1 = random.choice(string.ascii_uppercase)\n",
    "    letter2 = random.choice(string.ascii_uppercase)\n",
    "    letter3 = random.choice(string.ascii_uppercase)\n",
    "    url = urlparse.urljoin(root_url, f'{letter1}/{letter2}{letter3}')\n",
    "\n",
    "    #cookies = random.choice(cookies_pot)\n",
    "    session = requests.Session()\n",
    "    requests.utils.add_dict_to_cookiejar(session.cookies, cookies)\n",
    "\n",
    "    req = session.get(url)\n",
    "    response = TextResponse(str(req.url), body=req.text, encoding='utf-8')\n",
    "\n",
    "    iframe_src = response.css('iframe').xpath('@src').get()\n",
    "    if iframe_src and 'Incapsula' in iframe_src:\n",
    "      raise Exception(\"Incapsula issue.\")\n",
    "\n",
    "    captcha = response.css('img#captcha').xpath('@src').get()\n",
    "\n",
    "    if not captcha:\n",
    "      raise Exception(\"Captcha not here.\")\n",
    "\n",
    "    # Get the token\n",
    "    token = response.css('#form__token').xpath('@value').get()\n",
    "\n",
    "    # Get the image captcha URL\n",
    "    captcha_uri = response.css('img#captcha').xpath('@src').get()\n",
    "    captcha_url = urlparse.urljoin(root_url, captcha_uri)\n",
    "\n",
    "    # Download the image\n",
    "    req = session.get(captcha_url)\n",
    "    captcha_image = Image.open(io.BytesIO(req.content))\n",
    "\n",
    "    # Solve the captcha\n",
    "    captcha_solution = captcha_solver(captcha_image)\n",
    "\n",
    "    # Send captcha solution.\n",
    "    form_data = {}\n",
    "    form_data['form[captcha]'] = captcha_solution\n",
    "    form_data['form[_token]'] = token\n",
    "\n",
    "    # Get the actual page.\n",
    "    req = session.post(url, data=form_data)\n",
    "    response = TextResponse(str(req.url), body=req.text, encoding='utf-8')\n",
    "\n",
    "    iframe_src = response.css('iframe').xpath('@src').get()\n",
    "    if iframe_src and 'Incapsula' in iframe_src:\n",
    "      raise Exception(\"Incapsula issue.\")\n",
    "\n",
    "    captcha = response.css('img#captcha').xpath('@src').get()\n",
    "\n",
    "    if not captcha:\n",
    "      success += 1\n",
    "\n",
    "    i += 1\n",
    "    rate = (success / i) * 100\n",
    "    text = f\"{rate:.1f}% success rate ({success}/{i})\"\n",
    "    pbar.set_description(text)\n",
    "    pbar.update()\n",
    "    \n",
    "  except ConnectionError:\n",
    "    pass\n",
    "  \n",
    "pbar.close()"
   ]
  },
  {
   "cell_type": "code",
   "execution_count": null,
   "metadata": {},
   "outputs": [],
   "source": []
  }
 ],
 "metadata": {
  "kernelspec": {
   "display_name": "Python [conda env:captchanet]",
   "language": "python",
   "name": "conda-env-captchanet-py"
  },
  "language_info": {
   "codemirror_mode": {
    "name": "ipython",
    "version": 3
   },
   "file_extension": ".py",
   "mimetype": "text/x-python",
   "name": "python",
   "nbconvert_exporter": "python",
   "pygments_lexer": "ipython3",
   "version": "3.7.1"
  }
 },
 "nbformat": 4,
 "nbformat_minor": 4
}
