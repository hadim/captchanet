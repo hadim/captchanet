{
 "cells": [
  {
   "cell_type": "code",
   "execution_count": 1,
   "metadata": {},
   "outputs": [],
   "source": [
    "#import os\n",
    "#os.environ[\"CUDA_VISIBLE_DEVICES\"] = \"-1\" \n",
    "\n",
    "%matplotlib inline\n",
    "\n",
    "from pathlib import Path\n",
    "import io\n",
    "import urllib.parse as urlparse\n",
    "import string\n",
    "import random\n",
    "\n",
    "import matplotlib.pyplot as plt\n",
    "import numpy as np\n",
    "\n",
    "import tensorflow as tf\n",
    "import tensorflow_datasets as tfds\n",
    "\n",
    "from tqdm.auto import trange\n",
    "from tqdm.auto import tqdm\n",
    "import requests\n",
    "from scrapy.http import TextResponse\n",
    "from PIL import Image"
   ]
  },
  {
   "cell_type": "code",
   "execution_count": 2,
   "metadata": {},
   "outputs": [],
   "source": [
    "# Load tokenizer and model\n",
    "\n",
    "model_dir = Path(\"/home/hadim/.data/Neural_Network/captchanet/model/\")\n",
    "model_name = 'v7'\n",
    "model_path = model_dir / model_name\n",
    "model = tf.saved_model.load(str(model_path / 'inference_model'))\n",
    "\n",
    "def captcha_solver(image):\n",
    "  image = np.array(image)\n",
    "  images = np.array([image])\n",
    "  words = model.solve(images)\n",
    "  return words[0].numpy().decode()"
   ]
  },
  {
   "cell_type": "code",
   "execution_count": null,
   "metadata": {},
   "outputs": [
    {
     "data": {
      "application/vnd.jupyter.widget-view+json": {
       "model_id": "aaad0a32f53c4dc9a0c6d1d342b4ae5b",
       "version_major": 2,
       "version_minor": 0
      },
      "text/plain": [
       "HBox(children=(IntProgress(value=1, bar_style='info', max=1), HTML(value='')))"
      ]
     },
     "metadata": {},
     "output_type": "display_data"
    }
   ],
   "source": [
    "root_url = \"https://www.referendum.interieur.gouv.fr/consultation_publique/8/\"\n",
    "\n",
    "cookies_pot = [{'incap_ses_1226_2043128': '5SMgcKs3uGJG3n1Uu6ADESJSLl0AAAAAvi0QSg9QcnhED0Rp4tPl3g=='}]\n",
    "\n",
    "success = 0\n",
    "rate = 0\n",
    "word_length_max = 10\n",
    "  \n",
    "i = 0\n",
    "pbar = tqdm()\n",
    "while True:\n",
    "  try:\n",
    "  \n",
    "    letter1 = random.choice(string.ascii_uppercase)\n",
    "    letter2 = random.choice(string.ascii_uppercase)\n",
    "    letter3 = random.choice(string.ascii_uppercase)\n",
    "    url = urlparse.urljoin(root_url, f'{letter1}/{letter2}{letter3}')\n",
    "\n",
    "    cookies = random.choice(cookies_pot)\n",
    "    session = requests.Session()\n",
    "    requests.utils.add_dict_to_cookiejar(session.cookies, cookies)\n",
    "\n",
    "    req = session.get(url)\n",
    "    response = TextResponse(str(req.url), body=req.text, encoding='utf-8')\n",
    "\n",
    "    iframe_src = response.css('iframe').xpath('@src').get()\n",
    "    if iframe_src and 'Incapsula' in iframe_src:\n",
    "      raise Exception(\"Incapsula issue.\")\n",
    "\n",
    "    captcha = response.css('img#captcha').xpath('@src').get()\n",
    "\n",
    "    if not captcha:\n",
    "      raise Exception(\"Captcha not here.\")\n",
    "\n",
    "    # Get the token\n",
    "    token = response.css('#form__token').xpath('@value').get()\n",
    "\n",
    "    # Get the image captcha URL\n",
    "    captcha_uri = response.css('img#captcha').xpath('@src').get()\n",
    "    captcha_url = urlparse.urljoin(root_url, captcha_uri)\n",
    "\n",
    "    # Download the image\n",
    "    req = session.get(captcha_url)\n",
    "    captcha_image = Image.open(io.BytesIO(req.content))\n",
    "\n",
    "    # Solve the captcha\n",
    "    captcha_solution = captcha_solver(captcha_image)\n",
    "\n",
    "    # Send captcha solution.\n",
    "    form_data = {}\n",
    "    form_data['form[captcha]'] = captcha_solution\n",
    "    form_data['form[_token]'] = token\n",
    "\n",
    "    # Get the actual page.\n",
    "    req = session.post(url, data=form_data)\n",
    "    response = TextResponse(str(req.url), body=req.text, encoding='utf-8')\n",
    "\n",
    "    iframe_src = response.css('iframe').xpath('@src').get()\n",
    "    if iframe_src and 'Incapsula' in iframe_src:\n",
    "      raise Exception(\"Incapsula issue.\")\n",
    "\n",
    "    captcha = response.css('img#captcha').xpath('@src').get()\n",
    "\n",
    "    if not captcha:\n",
    "      success += 1\n",
    "\n",
    "    i += 1\n",
    "    rate = (success / i) * 100\n",
    "    text = f\"{rate:.1f}% success rate ({success}/{i})\"\n",
    "    pbar.set_description(text)\n",
    "    pbar.update()\n",
    "    \n",
    "  except ConnectionError:\n",
    "    pass\n",
    "  \n",
    "pbar.close()"
   ]
  },
  {
   "cell_type": "code",
   "execution_count": null,
   "metadata": {},
   "outputs": [],
   "source": []
  }
 ],
 "metadata": {
  "kernelspec": {
   "display_name": "Python [conda env:captchanet]",
   "language": "python",
   "name": "conda-env-captchanet-py"
  },
  "language_info": {
   "codemirror_mode": {
    "name": "ipython",
    "version": 3
   },
   "file_extension": ".py",
   "mimetype": "text/x-python",
   "name": "python",
   "nbconvert_exporter": "python",
   "pygments_lexer": "ipython3",
   "version": "3.7.1"
  }
 },
 "nbformat": 4,
 "nbformat_minor": 4
}
