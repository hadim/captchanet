{
 "cells": [
  {
   "cell_type": "markdown",
   "metadata": {},
   "source": [
    "Requirements (the Captchanet library is **not required** to run inference):\n",
    "- Python 3.7\n",
    "- `tensorflow >= 2.0`: to load and execute the model.\n",
    "- `numpy`: you know...\n",
    "- `tqdm`: a progress bar.\n",
    "- `matplotlib`: to plot things.\n",
    "- `requests`: to download stuff on the internet.\n",
    "- `pillow`: to convert a raw string to an image array."
   ]
  },
  {
   "cell_type": "code",
   "execution_count": 12,
   "metadata": {},
   "outputs": [],
   "source": [
    "# Use this to disable GPU.\n",
    "import os\n",
    "os.environ[\"CUDA_VISIBLE_DEVICES\"] = \"-1\" \n",
    "\n",
    "from pathlib import Path\n",
    "import urllib\n",
    "import tempfile\n",
    "import os\n",
    "import zipfile\n",
    "import io\n",
    "\n",
    "import matplotlib.pyplot as plt\n",
    "import numpy as np\n",
    "import tensorflow as tf\n",
    "from PIL import Image\n",
    "import requests\n",
    "import tqdm\n",
    "from tqdm.auto import trange\n",
    "\n",
    "\n",
    "# Useful functions.\n",
    "\n",
    "class _TqdmUpTo(tqdm.tqdm):\n",
    "  \"\"\"Alternative Class-based version of the above.\n",
    "  Provides `update_to(n)` which uses `tqdm.update(delta_n)`.\n",
    "  Inspired by [twine#242](https://github.com/pypa/twine/pull/242),\n",
    "  [here](https://github.com/pypa/twine/commit/42e55e06).\n",
    "  \"\"\"\n",
    "\n",
    "  def update_to(self, b=1, bsize=1, tsize=None):\n",
    "    \"\"\"\n",
    "    Args:\n",
    "        b: int, optional\n",
    "            Number of blocks transferred so far [default: 1].\n",
    "        bsize: int, optional\n",
    "            Size of each block (in tqdm units) [default: 1].\n",
    "        tsize: int, optional\n",
    "            Total size (in tqdm units). If [default: None] remains unchanged.\n",
    "    \"\"\"\n",
    "    if tsize is not None:\n",
    "      self.total = tsize\n",
    "    self.update(b * bsize - self.n)  # will also set self.n = b * bsize\n",
    "\n",
    "\n",
    "def download_zip(zip_url, extract_folder_path, progressbar=True):\n",
    "  \"\"\"Download a ZIP file from an URL and extract to a given local folder.\n",
    "\n",
    "  Args:\n",
    "      zip_url: The URL to the ZIP file as a str.\n",
    "      extract_folder_path: The path to the local folder for the extraction.\n",
    "  \"\"\"\n",
    "  temp_path = tempfile.mktemp(suffix=\".zip\")\n",
    "\n",
    "  with _TqdmUpTo(unit='B', unit_scale=True, unit_divisor=1024, miniters=1, disable=not progressbar) as t:\n",
    "    urllib.request.urlretrieve(zip_url, filename=temp_path, reporthook=t.update_to, data=None)\n",
    "\n",
    "  with zipfile.ZipFile(temp_path) as zf:\n",
    "    zf.extractall(extract_folder_path)\n",
    "\n",
    "  os.remove(temp_path)"
   ]
  },
  {
   "cell_type": "markdown",
   "metadata": {},
   "source": [
    "### Get the captchanet model"
   ]
  },
  {
   "cell_type": "code",
   "execution_count": 2,
   "metadata": {},
   "outputs": [
    {
     "name": "stderr",
     "output_type": "stream",
     "text": [
      "19.3MB [00:00, 59.2MB/s]                            \n"
     ]
    }
   ],
   "source": [
    "# Here we use a temporary folder to store the model but any other folder work.\n",
    "model_path = Path(tempfile.mkdtemp())\n",
    "\n",
    "# Download the model to `model_path`.\n",
    "model_url = \"https://storage.googleapis.com/hadim-data/models/captchanet-rip-v5.zip\"\n",
    "download_zip(model_url, model_path)"
   ]
  },
  {
   "cell_type": "markdown",
   "metadata": {},
   "source": [
    "### Load the model"
   ]
  },
  {
   "cell_type": "code",
   "execution_count": null,
   "metadata": {},
   "outputs": [],
   "source": [
    "# Load the tokenizer used to convert (vector of integers to list of letters).\n",
    "# The tokenizer could/should be embedded in the model in the future.\n",
    "with open(model_path / 'tokenizer.json') as f:\n",
    "  #tokenizer = tf.keras.preprocessing.text.tokenizer_from_json(f.read())\n",
    "  from keras_preprocessing import text\n",
    "  tokenizer = text.tokenizer_from_json(f.read())\n",
    "  \n",
    "# Load the model in memory\n",
    "model = tf.keras.models.load_model(str(model_path / 'model'))"
   ]
  },
  {
   "cell_type": "markdown",
   "metadata": {},
   "source": [
    "### Get images"
   ]
  },
  {
   "cell_type": "code",
   "execution_count": 13,
   "metadata": {},
   "outputs": [
    {
     "data": {
      "application/vnd.jupyter.widget-view+json": {
       "model_id": "5a887cce33794dbcae9410ff5a51d6e5",
       "version_major": 2,
       "version_minor": 0
      },
      "text/plain": [
       "HBox(children=(IntProgress(value=0, max=8), HTML(value='')))"
      ]
     },
     "metadata": {},
     "output_type": "display_data"
    }
   ],
   "source": [
    "# Download some captcha images\n",
    "batch_size = 8\n",
    "captcha_url = \"https://www.referendum.interieur.gouv.fr/bundles/ripconsultation/securimage/securimage_show.php\"\n",
    "images = [np.array(Image.open(io.BytesIO(requests.get(captcha_url).content))) for _ in trange(batch_size)]\n",
    "images = np.array(images)\n",
    "\n",
    "# `images` has the shape: [BATCH, WIDTH, HEIGHT, CHANNEL]"
   ]
  },
  {
   "cell_type": "markdown",
   "metadata": {},
   "source": [
    "### Preproces images"
   ]
  },
  {
   "cell_type": "code",
   "execution_count": 14,
   "metadata": {},
   "outputs": [
    {
     "name": "stderr",
     "output_type": "stream",
     "text": [
      "WARNING: Logging before flag parsing goes to stderr.\n",
      "W0712 22:55:26.440796 140705471682368 deprecation.py:323] From /home/hadim/conda/envs/captchanet/lib/python3.7/site-packages/tensorflow/python/ops/image_ops_impl.py:1511: div (from tensorflow.python.ops.math_ops) is deprecated and will be removed in a future version.\n",
      "Instructions for updating:\n",
      "Deprecated in favor of operator or tf.math.divide.\n"
     ]
    }
   ],
   "source": [
    "# The images need to be normalized t [0, 1] and resize to (224, 224).\n",
    "image_size = (224, 224)\n",
    "batch = tf.cast(images, 'float32')\n",
    "batch = tf.image.per_image_standardization(batch)\n",
    "batch = tf.image.resize(batch, image_size)"
   ]
  },
  {
   "cell_type": "markdown",
   "metadata": {},
   "source": [
    "### Solve captcha"
   ]
  },
  {
   "cell_type": "code",
   "execution_count": 15,
   "metadata": {},
   "outputs": [
    {
     "ename": "NameError",
     "evalue": "name 'model' is not defined",
     "output_type": "error",
     "traceback": [
      "\u001b[0;31m---------------------------------------------------------------------------\u001b[0m",
      "\u001b[0;31mNameError\u001b[0m                                 Traceback (most recent call last)",
      "\u001b[0;32m<ipython-input-15-761bc5bf7053>\u001b[0m in \u001b[0;36m<module>\u001b[0;34m\u001b[0m\n\u001b[1;32m      1\u001b[0m \u001b[0;31m# Here we run the model\u001b[0m\u001b[0;34m\u001b[0m\u001b[0;34m\u001b[0m\u001b[0;34m\u001b[0m\u001b[0m\n\u001b[0;32m----> 2\u001b[0;31m \u001b[0mlabels\u001b[0m \u001b[0;34m=\u001b[0m \u001b[0mmodel\u001b[0m\u001b[0;34m(\u001b[0m\u001b[0mbatch\u001b[0m\u001b[0;34m)\u001b[0m\u001b[0;34m\u001b[0m\u001b[0;34m\u001b[0m\u001b[0m\n\u001b[0m",
      "\u001b[0;31mNameError\u001b[0m: name 'model' is not defined"
     ]
    }
   ],
   "source": [
    "# Here we run the model\n",
    "labels = model(batch)"
   ]
  },
  {
   "cell_type": "markdown",
   "metadata": {},
   "source": [
    "### Postprocess the labels"
   ]
  },
  {
   "cell_type": "code",
   "execution_count": null,
   "metadata": {},
   "outputs": [],
   "source": [
    "# Decode the predicted labels to words.\n",
    "labels = tf.argmax(labels, axis=2)\n",
    "words = [tokenizer.sequences_to_texts([label])[0] for label in labels]\n",
    "words = [word.replace(' ', '') for word in words]\n",
    "words"
   ]
  },
  {
   "cell_type": "markdown",
   "metadata": {},
   "source": [
    "### Display the result"
   ]
  },
  {
   "cell_type": "code",
   "execution_count": 17,
   "metadata": {},
   "outputs": [
    {
     "ename": "NameError",
     "evalue": "name 'words' is not defined",
     "output_type": "error",
     "traceback": [
      "\u001b[0;31m---------------------------------------------------------------------------\u001b[0m",
      "\u001b[0;31mNameError\u001b[0m                                 Traceback (most recent call last)",
      "\u001b[0;32m<ipython-input-17-d96a169e4087>\u001b[0m in \u001b[0;36m<module>\u001b[0;34m\u001b[0m\n\u001b[1;32m      8\u001b[0m \u001b[0maxs\u001b[0m \u001b[0;34m=\u001b[0m \u001b[0maxs\u001b[0m\u001b[0;34m.\u001b[0m\u001b[0mflatten\u001b[0m\u001b[0;34m(\u001b[0m\u001b[0;34m)\u001b[0m\u001b[0;34m\u001b[0m\u001b[0;34m\u001b[0m\u001b[0m\n\u001b[1;32m      9\u001b[0m \u001b[0;34m\u001b[0m\u001b[0m\n\u001b[0;32m---> 10\u001b[0;31m \u001b[0;32mfor\u001b[0m \u001b[0mimage\u001b[0m\u001b[0;34m,\u001b[0m \u001b[0mword\u001b[0m\u001b[0;34m,\u001b[0m \u001b[0max\u001b[0m \u001b[0;32min\u001b[0m \u001b[0mzip\u001b[0m\u001b[0;34m(\u001b[0m\u001b[0mimages\u001b[0m\u001b[0;34m,\u001b[0m \u001b[0mwords\u001b[0m\u001b[0;34m,\u001b[0m \u001b[0maxs\u001b[0m\u001b[0;34m)\u001b[0m\u001b[0;34m:\u001b[0m\u001b[0;34m\u001b[0m\u001b[0;34m\u001b[0m\u001b[0m\n\u001b[0m\u001b[1;32m     11\u001b[0m   \u001b[0max\u001b[0m\u001b[0;34m.\u001b[0m\u001b[0mimshow\u001b[0m\u001b[0;34m(\u001b[0m\u001b[0mimage\u001b[0m\u001b[0;34m)\u001b[0m\u001b[0;34m\u001b[0m\u001b[0;34m\u001b[0m\u001b[0m\n\u001b[1;32m     12\u001b[0m   \u001b[0mtext\u001b[0m \u001b[0;34m=\u001b[0m \u001b[0;34mf'Predicted word: {word} ({len(word)})'\u001b[0m\u001b[0;34m\u001b[0m\u001b[0;34m\u001b[0m\u001b[0m\n",
      "\u001b[0;31mNameError\u001b[0m: name 'words' is not defined"
     ]
    },
    {
     "data": {
      "image/png": "[encoded data removed]",
      "text/plain": [
       "<Figure size 1440x864 with 8 Axes>"
      ]
     },
     "metadata": {
      "needs_background": "light"
     },
     "output_type": "display_data"
    }
   ],
   "source": [
    "# Plot the images with the predicted words.\n",
    "size = 3\n",
    "ncols = 2\n",
    "nrows = batch_size // ncols\n",
    "ratio = images.shape[2] / images.shape[1]\n",
    "figsize = (ncols * size * ratio, size * nrows)\n",
    "fig, axs = plt.subplots(nrows=nrows, ncols=ncols, figsize=figsize, constrained_layout=True)\n",
    "axs = axs.flatten()\n",
    "\n",
    "for image, word, ax in zip(images, words, axs):\n",
    "  ax.imshow(image)\n",
    "  text = f'Predicted word: {word} ({len(word)})'\n",
    "  ax.set_title(text)"
   ]
  }
 ],
 "metadata": {
  "kernelspec": {
   "display_name": "Python [conda env:captchanet]",
   "language": "python",
   "name": "conda-env-captchanet-py"
  },
  "language_info": {
   "codemirror_mode": {
    "name": "ipython",
    "version": 3
   },
   "file_extension": ".py",
   "mimetype": "text/x-python",
   "name": "python",
   "nbconvert_exporter": "python",
   "pygments_lexer": "ipython3",
   "version": "3.7.1"
  }
 },
 "nbformat": 4,
 "nbformat_minor": 4
}
