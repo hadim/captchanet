{
 "cells": [
  {
   "cell_type": "code",
   "execution_count": 1,
   "metadata": {},
   "outputs": [],
   "source": [
    "%load_ext autoreload\n",
    "%autoreload 2\n",
    "%matplotlib inline\n",
    "\n",
    "import datetime\n",
    "from pathlib import Path\n",
    "\n",
    "import matplotlib.pyplot as plt\n",
    "import tensorflow as tf\n",
    "\n",
    "from kerastuner import tuners\n",
    "from kerastuner import HyperParameters\n",
    "\n",
    "from tqdm.auto import tqdm\n",
    "\n",
    "import captchanet\n",
    "\n",
    "data_dir = Path('/home/hadim/.data/Neural_Network/captchanet')\n",
    "dataset_dir = data_dir / 'dataset_v6'\n",
    "\n",
    "train_data_dir = dataset_dir / 'training'\n",
    "val_data_dir = dataset_dir / 'validation'\n",
    "\n",
    "tokenizer_path = dataset_dir / \"tokenizer.json\"\n",
    "\n",
    "log_dir = data_dir / 'log'\n",
    "log_dir.mkdir(exist_ok=True, parents=True)\n",
    "\n",
    "model_dir = data_dir / 'model'\n",
    "model_dir.mkdir(exist_ok=True, parents=True)\n",
    "  \n",
    "# Get tokenizer\n",
    "with open(tokenizer_path) as f:\n",
    "  #tokenizer = tf.keras.preprocessing.text.tokenizer_from_json(f.read())\n",
    "  from keras_preprocessing import text\n",
    "  tokenizer = text.tokenizer_from_json(f.read())"
   ]
  },
  {
   "cell_type": "code",
   "execution_count": 2,
   "metadata": {},
   "outputs": [
    {
     "name": "stderr",
     "output_type": "stream",
     "text": [
      "WARNING: Logging before flag parsing goes to stderr.\n",
      "W0725 11:05:30.266322 139933572319040 deprecation.py:323] From /home/hadim/conda/envs/captchanet/lib/python3.7/site-packages/tensorflow/python/ops/image_ops_impl.py:1511: div (from tensorflow.python.ops.math_ops) is deprecated and will be removed in a future version.\n",
      "Instructions for updating:\n",
      "Deprecated in favor of operator or tf.math.divide.\n"
     ]
    }
   ],
   "source": [
    "# Build the dataset\n",
    "def make_dataset(data_dir, tokenizer, batch_size, image_size=None, shuffle=False, n=None):\n",
    "\n",
    "  fnames = [str(p) for p in data_dir.glob(\"*.tfrecord\")]\n",
    "  dataset = tf.data.TFRecordDataset(fnames)\n",
    "  \n",
    "  if n:\n",
    "    dataset = dataset.take(n)\n",
    "  if shuffle:\n",
    "      dataset = dataset.shuffle(buffer_size=2048)\n",
    "        \n",
    "  # We could infer it from the dataset but here it's hard-coded.\n",
    "  max_len_word = 10\n",
    "  decode_fn = captchanet.decode_data(tokenizer, max_len_word, image_size=image_size)\n",
    "  dataset = dataset.map(map_func=decode_fn, num_parallel_calls=tf.data.experimental.AUTOTUNE)\n",
    "  \n",
    "  dataset = dataset.batch(batch_size)\n",
    "  dataset = dataset.prefetch(buffer_size=tf.data.experimental.AUTOTUNE)\n",
    "  return dataset\n",
    "\n",
    "batch_size = 24\n",
    "n = None\n",
    "train_dataset = make_dataset(train_data_dir, tokenizer, batch_size=batch_size, shuffle=True, n=n)\n",
    "val_dataset = make_dataset(val_data_dir, tokenizer, batch_size=batch_size, shuffle=False, n=n)"
   ]
  },
  {
   "cell_type": "code",
   "execution_count": 3,
   "metadata": {},
   "outputs": [],
   "source": [
    "def build_model(image_shape, image_type, vocabulary_size, max_len_word, params=None, do_build=True):\n",
    "\n",
    "  def _builder(hp):\n",
    "\n",
    "    feature_network_names = ['NASNetLarge', 'NASNetMobile', 'DenseNet201', 'InceptionResNetV2', 'MobileNetV2']\n",
    "    feature_network_name = hp.Choice('feature_network_name', values=feature_network_names, default='NASNetMobile')\n",
    "    dropout_rate = hp.Choice('dropout_rate', values=[0.1, 0.2, 0.3, 0.4, 0.5], default=0.2)\n",
    "    use_regularizer = hp.Choice('use_regularizer', values=[True, False], default=True)\n",
    "    regularizer_value = hp.Choice('regularizer_value', values=[1e-1, 1e-2, 1e-3, 1e-4, 1e-5], default=1e-4)\n",
    "    optimizer_name = hp.Choice('optimizer_name', values=['sgd', 'adam', 'rmsprop'], default='sgd')\n",
    "    starting_lr = hp.Choice('starting_lr', values=[1e-1, 1e-2, 1e-3], default=1e-3)\n",
    "    momentum = hp.Choice('momentum', values=[0.9, 0.95, 0.99], default=0.9)\n",
    "\n",
    "    tf.keras.backend.clear_session()\n",
    "\n",
    "    inputs = tf.keras.layers.Input(name='image', shape=image_shape, dtype=image_type)\n",
    "    x = inputs\n",
    "\n",
    "    feature_net = getattr(tf.keras.applications, feature_network_name)\n",
    "    x = feature_net(input_shape=image_shape, include_top=False, weights=None, pooling='max')(x)\n",
    "    x = tf.keras.layers.Dropout(dropout_rate)(x)\n",
    "\n",
    "    padding_vocabulary_size = vocabulary_size + 1\n",
    "    outputs = []\n",
    "    for i in range(max_len_word):\n",
    "      if use_regularizer:\n",
    "        regularizer = tf.keras.regularizers.l2(regularizer_value)\n",
    "      else:\n",
    "        regularizer = None\n",
    "      out = tf.keras.layers.Dense(padding_vocabulary_size, kernel_regularizer=regularizer, activation='softmax', name=f'character_{i}')(x)\n",
    "      outputs.append(out)\n",
    "    outputs = tf.keras.layers.Concatenate()(outputs)\n",
    "    outputs = tf.keras.layers.Reshape((max_len_word, padding_vocabulary_size))(outputs)\n",
    "\n",
    "    model = tf.keras.Model(inputs=inputs, outputs=outputs)\n",
    "\n",
    "    # Optimizer Parameters\n",
    "    sgd_params = {}\n",
    "    sgd_params['learning_rate'] = starting_lr\n",
    "    sgd_params['momentum'] = momentum\n",
    "    sgd_params['nesterov'] = True\n",
    "\n",
    "    adam_params = {}\n",
    "    adam_params['learning_rate'] = starting_lr\n",
    "    adam_params['amsgrad'] = True\n",
    "\n",
    "    rmsprop_params = {}\n",
    "    rmsprop_params['learning_rate'] = starting_lr\n",
    "\n",
    "    # Build optimizer.\n",
    "    if optimizer_name == 'sgd':\n",
    "      optimizer = tf.keras.optimizers.SGD(**sgd_params)\n",
    "    elif optimizer_name == 'adam':\n",
    "      optimizer = tf.keras.optimizers.Adam(**adam_params)\n",
    "    elif optimizer_name == 'rmsprop':\n",
    "      optimizer = tf.keras.optimizers.RMSprop(**rmsprop_params)\n",
    "\n",
    "    # Compile model\n",
    "    model.compile(loss='categorical_crossentropy', optimizer=optimizer, metrics=['accuracy'])\n",
    "\n",
    "    return model\n",
    "\n",
    "  hp = HyperParameters()\n",
    "\n",
    "  if params:\n",
    "    for key, value in params.items():\n",
    "      hp.Fixed(key, value)\n",
    "      \n",
    "  if not do_build:\n",
    "    return _builder\n",
    "\n",
    "  return _builder(hp)"
   ]
  },
  {
   "cell_type": "code",
   "execution_count": 4,
   "metadata": {},
   "outputs": [
    {
     "name": "stdout",
     "output_type": "stream",
     "text": [
      "Model: \"model\"\n",
      "__________________________________________________________________________________________________\n",
      "Layer (type)                    Output Shape         Param #     Connected to                     \n",
      "==================================================================================================\n",
      "image (InputLayer)              [(None, 120, 400, 3) 0                                            \n",
      "__________________________________________________________________________________________________\n",
      "NASNet (Model)                  (None, 1056)         4269716     image[0][0]                      \n",
      "__________________________________________________________________________________________________\n",
      "dropout (Dropout)               (None, 1056)         0           NASNet[1][0]                     \n",
      "__________________________________________________________________________________________________\n",
      "character_0 (Dense)             (None, 60)           63420       dropout[0][0]                    \n",
      "__________________________________________________________________________________________________\n",
      "character_1 (Dense)             (None, 60)           63420       dropout[0][0]                    \n",
      "__________________________________________________________________________________________________\n",
      "character_2 (Dense)             (None, 60)           63420       dropout[0][0]                    \n",
      "__________________________________________________________________________________________________\n",
      "character_3 (Dense)             (None, 60)           63420       dropout[0][0]                    \n",
      "__________________________________________________________________________________________________\n",
      "character_4 (Dense)             (None, 60)           63420       dropout[0][0]                    \n",
      "__________________________________________________________________________________________________\n",
      "character_5 (Dense)             (None, 60)           63420       dropout[0][0]                    \n",
      "__________________________________________________________________________________________________\n",
      "character_6 (Dense)             (None, 60)           63420       dropout[0][0]                    \n",
      "__________________________________________________________________________________________________\n",
      "character_7 (Dense)             (None, 60)           63420       dropout[0][0]                    \n",
      "__________________________________________________________________________________________________\n",
      "character_8 (Dense)             (None, 60)           63420       dropout[0][0]                    \n",
      "__________________________________________________________________________________________________\n",
      "character_9 (Dense)             (None, 60)           63420       dropout[0][0]                    \n",
      "__________________________________________________________________________________________________\n",
      "concatenate_4 (Concatenate)     (None, 600)          0           character_0[0][0]                \n",
      "                                                                 character_1[0][0]                \n",
      "                                                                 character_2[0][0]                \n",
      "                                                                 character_3[0][0]                \n",
      "                                                                 character_4[0][0]                \n",
      "                                                                 character_5[0][0]                \n",
      "                                                                 character_6[0][0]                \n",
      "                                                                 character_7[0][0]                \n",
      "                                                                 character_8[0][0]                \n",
      "                                                                 character_9[0][0]                \n",
      "__________________________________________________________________________________________________\n",
      "reshape (Reshape)               (None, 10, 60)       0           concatenate_4[0][0]              \n",
      "==================================================================================================\n",
      "Total params: 4,903,916\n",
      "Trainable params: 4,867,178\n",
      "Non-trainable params: 36,738\n",
      "__________________________________________________________________________________________________\n"
     ]
    }
   ],
   "source": [
    "# Get image shape\n",
    "image, label = [d for d in train_dataset.take(1)][0]\n",
    "image_shape = image.shape[1:]\n",
    "image_type = image.dtype\n",
    "\n",
    "params = {}\n",
    "params['feature_network_name'] = 'NASNetMobile'  # ['NASNetLarge', 'NASNetMobile', 'DenseNet201', 'InceptionResNetV2', 'MobileNetV2']\n",
    "params['dropout_rate'] = 0.4\n",
    "params['use_regularizer'] = True\n",
    "params['regularizer_value'] = 1e-5\n",
    "params['optimizer_name'] = 'adam'\n",
    "params['starting_lr'] = 1e-2\n",
    "params['momentum'] = 0.95\n",
    "\n",
    "# Build the model.\n",
    "vocabulary_size = len(tokenizer.index_word)\n",
    "model = build_model(image_shape, image_type, vocabulary_size, max_len_word=10, params=params)\n",
    "model.summary()"
   ]
  },
  {
   "cell_type": "code",
   "execution_count": null,
   "metadata": {},
   "outputs": [
    {
     "data": {
      "application/vnd.jupyter.widget-view+json": {
       "model_id": "3a2922333d6640e389662bdfc83e73e0",
       "version_major": 2,
       "version_minor": 0
      },
      "text/plain": [
       "HBox(children=(IntProgress(value=0, description='Training', max=500, style=ProgressStyle(description_width='in…"
      ]
     },
     "metadata": {},
     "output_type": "display_data"
    },
    {
     "data": {
      "application/vnd.jupyter.widget-view+json": {
       "model_id": "80426ae7f7bb42868f9268e815120304",
       "version_major": 2,
       "version_minor": 0
      },
      "text/plain": [
       "HBox(children=(IntProgress(value=1, bar_style='info', description='Epoch: 0', max=1, style=ProgressStyle(descr…"
      ]
     },
     "metadata": {},
     "output_type": "display_data"
    },
    {
     "name": "stderr",
     "output_type": "stream",
     "text": [
      "W0725 11:05:58.181984 139933572319040 deprecation.py:323] From /home/hadim/conda/envs/captchanet/lib/python3.7/site-packages/tensorflow/python/ops/math_grad.py:1250: add_dispatch_support.<locals>.wrapper (from tensorflow.python.ops.array_ops) is deprecated and will be removed in a future version.\n",
      "Instructions for updating:\n",
      "Use tf.where in 2.0, which has the same broadcast rule as np.where\n"
     ]
    },
    {
     "data": {
      "application/vnd.jupyter.widget-view+json": {
       "model_id": "58c1b2e8eb1c42c3a36cd36b08cb81c5",
       "version_major": 2,
       "version_minor": 0
      },
      "text/plain": [
       "HBox(children=(IntProgress(value=0, description='Epoch: 1', max=398, style=ProgressStyle(description_width='in…"
      ]
     },
     "metadata": {},
     "output_type": "display_data"
    },
    {
     "data": {
      "application/vnd.jupyter.widget-view+json": {
       "model_id": "ca884a46dd444379a27b92fb0942fba4",
       "version_major": 2,
       "version_minor": 0
      },
      "text/plain": [
       "HBox(children=(IntProgress(value=0, description='Epoch: 2', max=398, style=ProgressStyle(description_width='in…"
      ]
     },
     "metadata": {},
     "output_type": "display_data"
    },
    {
     "data": {
      "application/vnd.jupyter.widget-view+json": {
       "model_id": "1ff5cc9e463c42abb7a85f97a59bd9dc",
       "version_major": 2,
       "version_minor": 0
      },
      "text/plain": [
       "HBox(children=(IntProgress(value=0, description='Epoch: 3', max=398, style=ProgressStyle(description_width='in…"
      ]
     },
     "metadata": {},
     "output_type": "display_data"
    },
    {
     "data": {
      "application/vnd.jupyter.widget-view+json": {
       "model_id": "c1f7d28447bf4f9aa432354dacef1df5",
       "version_major": 2,
       "version_minor": 0
      },
      "text/plain": [
       "HBox(children=(IntProgress(value=0, description='Epoch: 4', max=398, style=ProgressStyle(description_width='in…"
      ]
     },
     "metadata": {},
     "output_type": "display_data"
    },
    {
     "data": {
      "application/vnd.jupyter.widget-view+json": {
       "model_id": "5a0020f347964d1e9844260cd3ebeee2",
       "version_major": 2,
       "version_minor": 0
      },
      "text/plain": [
       "HBox(children=(IntProgress(value=0, description='Epoch: 5', max=398, style=ProgressStyle(description_width='in…"
      ]
     },
     "metadata": {},
     "output_type": "display_data"
    },
    {
     "data": {
      "application/vnd.jupyter.widget-view+json": {
       "model_id": "3dcd291564e54ae2b4f16d7f4e502bbd",
       "version_major": 2,
       "version_minor": 0
      },
      "text/plain": [
       "HBox(children=(IntProgress(value=0, description='Epoch: 6', max=398, style=ProgressStyle(description_width='in…"
      ]
     },
     "metadata": {},
     "output_type": "display_data"
    },
    {
     "data": {
      "application/vnd.jupyter.widget-view+json": {
       "model_id": "e85754ed2ee84ec08fb695ab5b74cd47",
       "version_major": 2,
       "version_minor": 0
      },
      "text/plain": [
       "HBox(children=(IntProgress(value=0, description='Epoch: 7', max=398, style=ProgressStyle(description_width='in…"
      ]
     },
     "metadata": {},
     "output_type": "display_data"
    },
    {
     "data": {
      "application/vnd.jupyter.widget-view+json": {
       "model_id": "173fa029239843a8917a8334706941f3",
       "version_major": 2,
       "version_minor": 0
      },
      "text/plain": [
       "HBox(children=(IntProgress(value=0, description='Epoch: 8', max=398, style=ProgressStyle(description_width='in…"
      ]
     },
     "metadata": {},
     "output_type": "display_data"
    },
    {
     "data": {
      "application/vnd.jupyter.widget-view+json": {
       "model_id": "3632de455fd94dde9dd5dc733619c663",
       "version_major": 2,
       "version_minor": 0
      },
      "text/plain": [
       "HBox(children=(IntProgress(value=0, description='Epoch: 9', max=398, style=ProgressStyle(description_width='in…"
      ]
     },
     "metadata": {},
     "output_type": "display_data"
    },
    {
     "data": {
      "application/vnd.jupyter.widget-view+json": {
       "model_id": "abf30d49832b497f99cc77356463fb31",
       "version_major": 2,
       "version_minor": 0
      },
      "text/plain": [
       "HBox(children=(IntProgress(value=0, description='Epoch: 10', max=398, style=ProgressStyle(description_width='i…"
      ]
     },
     "metadata": {},
     "output_type": "display_data"
    },
    {
     "data": {
      "application/vnd.jupyter.widget-view+json": {
       "model_id": "e0fcb3eb8f7f422999894d24391788c4",
       "version_major": 2,
       "version_minor": 0
      },
      "text/plain": [
       "HBox(children=(IntProgress(value=0, description='Epoch: 11', max=398, style=ProgressStyle(description_width='i…"
      ]
     },
     "metadata": {},
     "output_type": "display_data"
    },
    {
     "data": {
      "application/vnd.jupyter.widget-view+json": {
       "model_id": "95421f14ff1d4dd49b4d2c0919dc3ad5",
       "version_major": 2,
       "version_minor": 0
      },
      "text/plain": [
       "HBox(children=(IntProgress(value=0, description='Epoch: 12', max=398, style=ProgressStyle(description_width='i…"
      ]
     },
     "metadata": {},
     "output_type": "display_data"
    },
    {
     "data": {
      "application/vnd.jupyter.widget-view+json": {
       "model_id": "6f273525f671401993b794971606e6e1",
       "version_major": 2,
       "version_minor": 0
      },
      "text/plain": [
       "HBox(children=(IntProgress(value=0, description='Epoch: 13', max=398, style=ProgressStyle(description_width='i…"
      ]
     },
     "metadata": {},
     "output_type": "display_data"
    },
    {
     "data": {
      "application/vnd.jupyter.widget-view+json": {
       "model_id": "a33603f8cf0c45938d381f403a5781a4",
       "version_major": 2,
       "version_minor": 0
      },
      "text/plain": [
       "HBox(children=(IntProgress(value=0, description='Epoch: 14', max=398, style=ProgressStyle(description_width='i…"
      ]
     },
     "metadata": {},
     "output_type": "display_data"
    },
    {
     "data": {
      "application/vnd.jupyter.widget-view+json": {
       "model_id": "254dc248f3a341b2bc625ca72b73cc0f",
       "version_major": 2,
       "version_minor": 0
      },
      "text/plain": [
       "HBox(children=(IntProgress(value=0, description='Epoch: 15', max=398, style=ProgressStyle(description_width='i…"
      ]
     },
     "metadata": {},
     "output_type": "display_data"
    },
    {
     "data": {
      "application/vnd.jupyter.widget-view+json": {
       "model_id": "06eff225afb64a72a7661d54b7d3d04c",
       "version_major": 2,
       "version_minor": 0
      },
      "text/plain": [
       "HBox(children=(IntProgress(value=0, description='Epoch: 16', max=398, style=ProgressStyle(description_width='i…"
      ]
     },
     "metadata": {},
     "output_type": "display_data"
    },
    {
     "data": {
      "application/vnd.jupyter.widget-view+json": {
       "model_id": "2bd1913309704e55a33f57bcb8f2441d",
       "version_major": 2,
       "version_minor": 0
      },
      "text/plain": [
       "HBox(children=(IntProgress(value=0, description='Epoch: 17', max=398, style=ProgressStyle(description_width='i…"
      ]
     },
     "metadata": {},
     "output_type": "display_data"
    },
    {
     "data": {
      "application/vnd.jupyter.widget-view+json": {
       "model_id": "387596c6790245a3a143bb3bee236f7b",
       "version_major": 2,
       "version_minor": 0
      },
      "text/plain": [
       "HBox(children=(IntProgress(value=0, description='Epoch: 18', max=398, style=ProgressStyle(description_width='i…"
      ]
     },
     "metadata": {},
     "output_type": "display_data"
    },
    {
     "data": {
      "application/vnd.jupyter.widget-view+json": {
       "model_id": "ebc09881bf574fc1b2ab49ee568fbf69",
       "version_major": 2,
       "version_minor": 0
      },
      "text/plain": [
       "HBox(children=(IntProgress(value=0, description='Epoch: 19', max=398, style=ProgressStyle(description_width='i…"
      ]
     },
     "metadata": {},
     "output_type": "display_data"
    },
    {
     "data": {
      "application/vnd.jupyter.widget-view+json": {
       "model_id": "59f0337396e8436595ec3db12b7416cf",
       "version_major": 2,
       "version_minor": 0
      },
      "text/plain": [
       "HBox(children=(IntProgress(value=0, description='Epoch: 20', max=398, style=ProgressStyle(description_width='i…"
      ]
     },
     "metadata": {},
     "output_type": "display_data"
    },
    {
     "data": {
      "application/vnd.jupyter.widget-view+json": {
       "model_id": "6fd4ddc656874d0ebc292f9d3e36fbf1",
       "version_major": 2,
       "version_minor": 0
      },
      "text/plain": [
       "HBox(children=(IntProgress(value=0, description='Epoch: 21', max=398, style=ProgressStyle(description_width='i…"
      ]
     },
     "metadata": {},
     "output_type": "display_data"
    },
    {
     "data": {
      "application/vnd.jupyter.widget-view+json": {
       "model_id": "32d890902d3c42abae61c218abbb4616",
       "version_major": 2,
       "version_minor": 0
      },
      "text/plain": [
       "HBox(children=(IntProgress(value=0, description='Epoch: 22', max=398, style=ProgressStyle(description_width='i…"
      ]
     },
     "metadata": {},
     "output_type": "display_data"
    },
    {
     "data": {
      "application/vnd.jupyter.widget-view+json": {
       "model_id": "19cd3716ef0540999ed2037ccb567419",
       "version_major": 2,
       "version_minor": 0
      },
      "text/plain": [
       "HBox(children=(IntProgress(value=0, description='Epoch: 23', max=398, style=ProgressStyle(description_width='i…"
      ]
     },
     "metadata": {},
     "output_type": "display_data"
    },
    {
     "data": {
      "application/vnd.jupyter.widget-view+json": {
       "model_id": "6455abcca0c24078bf2963049bef8268",
       "version_major": 2,
       "version_minor": 0
      },
      "text/plain": [
       "HBox(children=(IntProgress(value=0, description='Epoch: 24', max=398, style=ProgressStyle(description_width='i…"
      ]
     },
     "metadata": {},
     "output_type": "display_data"
    },
    {
     "data": {
      "application/vnd.jupyter.widget-view+json": {
       "model_id": "50c973e965b04b9985f069b201a77d58",
       "version_major": 2,
       "version_minor": 0
      },
      "text/plain": [
       "HBox(children=(IntProgress(value=0, description='Epoch: 25', max=398, style=ProgressStyle(description_width='i…"
      ]
     },
     "metadata": {},
     "output_type": "display_data"
    },
    {
     "data": {
      "application/vnd.jupyter.widget-view+json": {
       "model_id": "371b81cd3bb74da69f2731811467bcc5",
       "version_major": 2,
       "version_minor": 0
      },
      "text/plain": [
       "HBox(children=(IntProgress(value=0, description='Epoch: 26', max=398, style=ProgressStyle(description_width='i…"
      ]
     },
     "metadata": {},
     "output_type": "display_data"
    },
    {
     "data": {
      "application/vnd.jupyter.widget-view+json": {
       "model_id": "d4b512c0da7e40bda776519d0aa1da09",
       "version_major": 2,
       "version_minor": 0
      },
      "text/plain": [
       "HBox(children=(IntProgress(value=0, description='Epoch: 27', max=398, style=ProgressStyle(description_width='i…"
      ]
     },
     "metadata": {},
     "output_type": "display_data"
    },
    {
     "data": {
      "application/vnd.jupyter.widget-view+json": {
       "model_id": "67a69196094d47b88578fbfddfe62eec",
       "version_major": 2,
       "version_minor": 0
      },
      "text/plain": [
       "HBox(children=(IntProgress(value=0, description='Epoch: 28', max=398, style=ProgressStyle(description_width='i…"
      ]
     },
     "metadata": {},
     "output_type": "display_data"
    },
    {
     "data": {
      "application/vnd.jupyter.widget-view+json": {
       "model_id": "69f06b3d5c0d4049a2fcbd353c0ca4fd",
       "version_major": 2,
       "version_minor": 0
      },
      "text/plain": [
       "HBox(children=(IntProgress(value=0, description='Epoch: 29', max=398, style=ProgressStyle(description_width='i…"
      ]
     },
     "metadata": {},
     "output_type": "display_data"
    },
    {
     "data": {
      "application/vnd.jupyter.widget-view+json": {
       "model_id": "5d341f77004d4762a65543f90c38bfc5",
       "version_major": 2,
       "version_minor": 0
      },
      "text/plain": [
       "HBox(children=(IntProgress(value=0, description='Epoch: 30', max=398, style=ProgressStyle(description_width='i…"
      ]
     },
     "metadata": {},
     "output_type": "display_data"
    },
    {
     "data": {
      "application/vnd.jupyter.widget-view+json": {
       "model_id": "de76005394904a668ace2123d8c1b6a8",
       "version_major": 2,
       "version_minor": 0
      },
      "text/plain": [
       "HBox(children=(IntProgress(value=0, description='Epoch: 31', max=398, style=ProgressStyle(description_width='i…"
      ]
     },
     "metadata": {},
     "output_type": "display_data"
    },
    {
     "data": {
      "application/vnd.jupyter.widget-view+json": {
       "model_id": "4c58cc215adf4c23b9b1097b72b842ea",
       "version_major": 2,
       "version_minor": 0
      },
      "text/plain": [
       "HBox(children=(IntProgress(value=0, description='Epoch: 32', max=398, style=ProgressStyle(description_width='i…"
      ]
     },
     "metadata": {},
     "output_type": "display_data"
    },
    {
     "data": {
      "application/vnd.jupyter.widget-view+json": {
       "model_id": "f487071fa8854554b932c78ef0838ea1",
       "version_major": 2,
       "version_minor": 0
      },
      "text/plain": [
       "HBox(children=(IntProgress(value=0, description='Epoch: 33', max=398, style=ProgressStyle(description_width='i…"
      ]
     },
     "metadata": {},
     "output_type": "display_data"
    },
    {
     "data": {
      "application/vnd.jupyter.widget-view+json": {
       "model_id": "994b403e0fe54d2aaea37a619ae0e95c",
       "version_major": 2,
       "version_minor": 0
      },
      "text/plain": [
       "HBox(children=(IntProgress(value=0, description='Epoch: 34', max=398, style=ProgressStyle(description_width='i…"
      ]
     },
     "metadata": {},
     "output_type": "display_data"
    },
    {
     "data": {
      "application/vnd.jupyter.widget-view+json": {
       "model_id": "3a93259d18b14e93a483ed96fc83553f",
       "version_major": 2,
       "version_minor": 0
      },
      "text/plain": [
       "HBox(children=(IntProgress(value=0, description='Epoch: 35', max=398, style=ProgressStyle(description_width='i…"
      ]
     },
     "metadata": {},
     "output_type": "display_data"
    },
    {
     "data": {
      "application/vnd.jupyter.widget-view+json": {
       "model_id": "01d6a1e500194e7cba4eeef4d35311cc",
       "version_major": 2,
       "version_minor": 0
      },
      "text/plain": [
       "HBox(children=(IntProgress(value=0, description='Epoch: 36', max=398, style=ProgressStyle(description_width='i…"
      ]
     },
     "metadata": {},
     "output_type": "display_data"
    },
    {
     "data": {
      "application/vnd.jupyter.widget-view+json": {
       "model_id": "e3d850a90478450cba164779ce9c9d73",
       "version_major": 2,
       "version_minor": 0
      },
      "text/plain": [
       "HBox(children=(IntProgress(value=0, description='Epoch: 37', max=398, style=ProgressStyle(description_width='i…"
      ]
     },
     "metadata": {},
     "output_type": "display_data"
    },
    {
     "data": {
      "application/vnd.jupyter.widget-view+json": {
       "model_id": "be2a3d72cf6b4b64abad6079fc5c624c",
       "version_major": 2,
       "version_minor": 0
      },
      "text/plain": [
       "HBox(children=(IntProgress(value=0, description='Epoch: 38', max=398, style=ProgressStyle(description_width='i…"
      ]
     },
     "metadata": {},
     "output_type": "display_data"
    },
    {
     "data": {
      "application/vnd.jupyter.widget-view+json": {
       "model_id": "b4a5930ef1e84fa0b99940027af3e5a6",
       "version_major": 2,
       "version_minor": 0
      },
      "text/plain": [
       "HBox(children=(IntProgress(value=0, description='Epoch: 39', max=398, style=ProgressStyle(description_width='i…"
      ]
     },
     "metadata": {},
     "output_type": "display_data"
    },
    {
     "data": {
      "application/vnd.jupyter.widget-view+json": {
       "model_id": "55bde2fe960c49e888510d5a4a7492ad",
       "version_major": 2,
       "version_minor": 0
      },
      "text/plain": [
       "HBox(children=(IntProgress(value=0, description='Epoch: 40', max=398, style=ProgressStyle(description_width='i…"
      ]
     },
     "metadata": {},
     "output_type": "display_data"
    },
    {
     "data": {
      "application/vnd.jupyter.widget-view+json": {
       "model_id": "0c020f196c834b378e521cec90aea060",
       "version_major": 2,
       "version_minor": 0
      },
      "text/plain": [
       "HBox(children=(IntProgress(value=0, description='Epoch: 41', max=398, style=ProgressStyle(description_width='i…"
      ]
     },
     "metadata": {},
     "output_type": "display_data"
    },
    {
     "data": {
      "application/vnd.jupyter.widget-view+json": {
       "model_id": "de7cb75876b84b45be18268832eba2bc",
       "version_major": 2,
       "version_minor": 0
      },
      "text/plain": [
       "HBox(children=(IntProgress(value=0, description='Epoch: 42', max=398, style=ProgressStyle(description_width='i…"
      ]
     },
     "metadata": {},
     "output_type": "display_data"
    }
   ],
   "source": [
    "# Callbacks\n",
    "callbacks = []\n",
    "\n",
    "log_path = log_dir / datetime.datetime.now().strftime(\"%Y.%m.%d-%H.%M.%S\")\n",
    "log_path.mkdir(exist_ok=True)\n",
    "\n",
    "tb = captchanet.LRTensorBoard(log_dir=str(log_path), write_images=False, write_graph=True)\n",
    "#callbacks.append(tb)\n",
    "\n",
    "reduce_lr = tf.keras.callbacks.ReduceLROnPlateau(monitor='val_loss', factor=0.8, patience=3, min_delta=5e-4, min_lr=1e-6)\n",
    "callbacks.append(reduce_lr)\n",
    "\n",
    "early_stop = tf.keras.callbacks.EarlyStopping(monitor='val_accuracy', min_delta=1e-3, patience=10)\n",
    "#callbacks.append(early_stop)\n",
    "\n",
    "chkpt_dir = log_path / 'checkpoints'\n",
    "chkpt_dir.mkdir(exist_ok=True)\n",
    "chkpt_path = chkpt_dir / 'weights.hdf5'\n",
    "chkpt = tf.keras.callbacks.ModelCheckpoint(str(chkpt_path), monitor='val_loss', save_best_only=True, save_weights_only=False)\n",
    "callbacks.append(chkpt)\n",
    "\n",
    "tqdm_progress = captchanet.TQDMCallback()\n",
    "callbacks.append(tqdm_progress)\n",
    "\n",
    "csv_logger = tf.keras.callbacks.CSVLogger(str(log_path / 'log.csv'))\n",
    "callbacks.append(csv_logger)\n",
    "\n",
    "n_epochs = 500\n",
    "model.fit(train_dataset, validation_data=val_dataset, epochs=n_epochs, callbacks=callbacks, verbose=0)"
   ]
  },
  {
   "cell_type": "code",
   "execution_count": null,
   "metadata": {},
   "outputs": [],
   "source": [
    "# Save model\n",
    "model_path = model_dir / 'v8'\n",
    "model_path.mkdir(exist_ok=True)\n",
    "model.save(str(model_path / 'model'))\n",
    "\n",
    "# Save tokenizer\n",
    "with open(model_path / tokenizer_path.name, 'w') as f:\n",
    "  f.write(tokenizer.to_json())\n",
    "\n",
    "# Save history\n",
    "history = pd.DataFrame(model.history.history)\n",
    "history_path = model_path / 'history.csv'\n",
    "history.to_csv(str(history_path), index=False)\n",
    "\n",
    "# Pack and zip the model directory\n",
    "import shutil\n",
    "archive_path = model_dir / model_path.stem\n",
    "shutil.rmtree(model_path / '.ipynb_checkpoints', ignore_errors=True)\n",
    "shutil.make_archive(archive_path, 'zip', root_dir=model_path)"
   ]
  },
  {
   "cell_type": "code",
   "execution_count": null,
   "metadata": {},
   "outputs": [],
   "source": [
    "# Check history\n",
    "history = pd.read_csv(history_path)\n",
    "\n",
    "n = 3\n",
    "size = 3.5\n",
    "ncols = 3\n",
    "w_h_scale = 2\n",
    "figsize = (ncols * size * w_h_scale, size)\n",
    "fig, axs = plt.subplots(nrows=n//ncols, ncols=ncols, figsize=figsize)\n",
    "axs = axs.flatten()\n",
    "\n",
    "axs[0].plot(history['val_accuracy'], label='val_accuracy')\n",
    "axs[0].plot(history['accuracy'], label='accuracy')\n",
    "axs[0].set_xlabel('epoch')\n",
    "axs[0].legend()\n",
    "\n",
    "axs[1].plot(history['val_loss'], label='val_loss')\n",
    "axs[1].plot(history['loss'], label='loss')\n",
    "axs[1].set_xlabel('epoch')\n",
    "axs[1].legend()\n",
    "\n",
    "axs[2].plot(history['lr'])\n",
    "axs[2].set_xlabel('epoch')\n",
    "\n",
    "fig.savefig(model_path / 'history.png')"
   ]
  },
  {
   "cell_type": "code",
   "execution_count": null,
   "metadata": {},
   "outputs": [],
   "source": [
    "loaded_model = model\n",
    "\n",
    "# Perform prediction\n",
    "model_image_size = (299, 299)\n",
    "n  = 8\n",
    "fnames = [str(p) for p in val_data_dir.glob(\"*.tfrecord\")]\n",
    "dataset = tf.data.TFRecordDataset(fnames)\n",
    "dataset = dataset.map(map_func=captchanet.decode_data(tokenizer, max_len_word=10, image_size=model_image_size, input_as_dict=True))\n",
    "dataset = dataset.shuffle(1024)\n",
    "dataset = dataset.batch(n)\n",
    "data = [d for d in dataset.take(1)][0]\n",
    "\n",
    "images = data['image']\n",
    "labels = data['label']\n",
    "\n",
    "labels = loaded_model(images)\n",
    "\n",
    "# Decode\n",
    "labels = labels.numpy().argmax(axis=2)\n",
    "predicted_words = [tokenizer.sequences_to_texts([label])[0] for label in labels]\n",
    "predicted_words = [word.replace(' ', '') for word in predicted_words]\n",
    "\n",
    "# Plot\n",
    "original_images = data['original_image'].numpy()\n",
    "words = data['word'].numpy()\n",
    "words = [w.decode('utf-8').replace('0', '') for w in words]\n",
    "\n",
    "size = 2\n",
    "ncols = 2\n",
    "nrows = n // ncols\n",
    "ratio = original_images.shape[2] / original_images.shape[1]\n",
    "figsize = (ncols * size * ratio, size * nrows)\n",
    "fig, axs = plt.subplots(nrows=nrows, ncols=ncols, figsize=figsize, constrained_layout=True)\n",
    "axs = axs.flatten()\n",
    "\n",
    "for image, word, predicted_word, ax in zip(original_images, words, predicted_words, axs):\n",
    "  ax.imshow(image)\n",
    "  \n",
    "  mark = 'OK' if predicted_word == word else 'WRONG'\n",
    "  text = f'True: {word} ({len(word)})'\n",
    "  text += f' - Predicted: {predicted_word} ({len(predicted_word)})'\n",
    "  text += f\" - {mark}\"\n",
    "  ax.set_title(text, fontsize=14)\n",
    "  \n",
    "fig.savefig(model_path / 'example_prediction.png')"
   ]
  },
  {
   "cell_type": "code",
   "execution_count": null,
   "metadata": {},
   "outputs": [],
   "source": []
  }
 ],
 "metadata": {
  "kernelspec": {
   "display_name": "Python [conda env:captchanet]",
   "language": "python",
   "name": "conda-env-captchanet-py"
  },
  "language_info": {
   "codemirror_mode": {
    "name": "ipython",
    "version": 3
   },
   "file_extension": ".py",
   "mimetype": "text/x-python",
   "name": "python",
   "nbconvert_exporter": "python",
   "pygments_lexer": "ipython3",
   "version": "3.7.1"
  }
 },
 "nbformat": 4,
 "nbformat_minor": 4
}
